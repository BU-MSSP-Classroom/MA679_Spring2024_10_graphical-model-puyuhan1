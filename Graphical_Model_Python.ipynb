{
 "cells": [
  {
   "cell_type": "markdown",
   "id": "96d587c1",
   "metadata": {},
   "source": [
    "# Class Workbook\n"
   ]
  },
  {
   "cell_type": "markdown",
   "id": "31f72e0a",
   "metadata": {},
   "source": [
    "## In class activity"
   ]
  },
  {
   "cell_type": "code",
   "execution_count": 3,
   "id": "03055dda",
   "metadata": {
    "Rmd_chunk_options": "echo=FALSE",
    "jupyter": {
     "output_hidden": false
    },
    "kernel": "Python3",
    "tags": [
     "report_output"
    ]
   },
   "outputs": [],
   "source": [
    "import numpy as np\n",
    "from scipy.special import expit\n",
    "import pandas as pd\n",
    "import seaborn as sns\n",
    "import math\n",
    "from matplotlib.pyplot import subplots\n",
    "import matplotlib.pyplot as plt\n",
    "#import statsmodels.api as sm\n",
    "from plotnine import *\n",
    "import plotly.express as px\n",
    "import plotly.graph_objects as go\n",
    "import statsmodels.formula.api as sm\n",
    "from pgmpy.factors.discrete import TabularCPD\n",
    "# from sklearn.linear_model import LinearRegression\n",
    "# from sklearn.linear_model import LogisticRegression\n",
    "# from sklearn.model_selection import train_test_split\n",
    "# from sklearn.metrics import accuracy_score, confusion_matrix, roc_auc_score, roc_curve\n",
    "# import patchworklib as pw\n",
    "# from mpl_toolkits.mplot3d import Axes3D\n",
    "from pgmpy.models import BayesianNetwork\n",
    "#import ISLP as islp"
   ]
  },
  {
   "cell_type": "markdown",
   "id": "ca0d8d2b",
   "metadata": {},
   "source": [
    "No Github activity for this class."
   ]
  },
  {
   "cell_type": "markdown",
   "id": "7cb1bca3",
   "metadata": {},
   "source": [
    "## Graphical model with Python"
   ]
  },
  {
   "cell_type": "markdown",
   "id": "7557af0e",
   "metadata": {},
   "source": [
    "You will need to install the library networkx."
   ]
  },
  {
   "cell_type": "markdown",
   "id": "a0e5a099",
   "metadata": {},
   "source": [
    "### Creating a graph object"
   ]
  },
  {
   "cell_type": "markdown",
   "id": "97c7a815",
   "metadata": {},
   "source": [
    "#### Undirected Graph\n",
    "\n",
    "There are multiple ways to specify a graph.\n",
    "First, for an undirected graph, you can define it as a set of cliques.\n",
    "A clique is a subset of vertices of an undirected graph such that every two distinct vertices in the clique are adjacent."
   ]
  },
  {
   "cell_type": "code",
   "execution_count": 4,
   "id": "1099a00a",
   "metadata": {
    "kernel": "Python3",
    "tags": [
     "report_cell"
    ]
   },
   "outputs": [
    {
     "data": {
      "image/png": "[encoded data removed]",
      "text/plain": [
       "<Figure size 432x288 with 1 Axes>"
      ]
     },
     "metadata": {},
     "output_type": "display_data"
    }
   ],
   "source": [
    "import networkx as nx\n",
    "\n",
    "G = nx.Graph()\n",
    "G.add_edge(1, 2)\n",
    "G.add_edge(1, 3)\n",
    "G.add_edge(1, 5)\n",
    "G.add_edge(2, 3)\n",
    "G.add_edge(3, 4)\n",
    "G.add_edge(4, 5)\n",
    "\n",
    "\n",
    "# explicitly set positions\n",
    "pos = {1: (0, 0), 2: (-1, 0.3), 3: (2, 0.17), 4: (4, 0.255), 5: (5, 0.03)}\n",
    "\n",
    "options = {\n",
    "    \"font_size\": 36,\n",
    "    \"node_size\": 3000,\n",
    "    \"node_color\": \"white\",\n",
    "    \"edgecolors\": \"black\",\n",
    "    \"linewidths\": 5,\n",
    "    \"width\": 5,\n",
    "}\n",
    "nx.draw_networkx(G, pos, **options)\n",
    "\n",
    "# Set margins for the axes so that nodes aren't clipped\n",
    "ax = plt.gca()\n",
    "ax.margins(0.20)\n",
    "plt.axis(\"off\")\n",
    "plt.show()"
   ]
  },
  {
   "cell_type": "markdown",
   "id": "d978374a",
   "metadata": {},
   "source": [
    "##### Attributes"
   ]
  },
  {
   "cell_type": "code",
   "execution_count": 5,
   "id": "0ef29702",
   "metadata": {
    "kernel": "Python3",
    "tags": [
     "report_cell"
    ]
   },
   "outputs": [],
   "source": [
    "G.number_of_nodes()\n",
    "G.number_of_edges()\n",
    "list(G.nodes)\n",
    "list(G.edges)\n",
    "\n",
    "G.degree(1, weight='weight')\n",
    "Gsub=G.subgraph([2,3,4])"
   ]
  },
  {
   "cell_type": "markdown",
   "id": "16272e02",
   "metadata": {},
   "source": [
    "#### Directed Graph\n",
    "\n",
    "For a DAG there are multiple ways."
   ]
  },
  {
   "cell_type": "code",
   "execution_count": 6,
   "id": "59e2edc3",
   "metadata": {
    "kernel": "Python3",
    "tags": [
     "report_cell"
    ]
   },
   "outputs": [
    {
     "data": {
      "image/png": "[encoded data removed]",
      "text/plain": [
       "<Figure size 432x288 with 1 Axes>"
      ]
     },
     "metadata": {},
     "output_type": "display_data"
    }
   ],
   "source": [
    "DG = nx.DiGraph([(0, 3), (1, 3), (2, 4), (3, 5), (3, 6), (4, 6), (5, 6)])\n",
    "\n",
    "# group nodes by column\n",
    "left_nodes = [0, 1, 2]\n",
    "middle_nodes = [3, 4]\n",
    "right_nodes = [5, 6]\n",
    "\n",
    "# set the position according to column (x-coord)\n",
    "pos = {n: (0, i) for i, n in enumerate(left_nodes)}\n",
    "pos.update({n: (1, i + 0.5) for i, n in enumerate(middle_nodes)})\n",
    "pos.update({n: (2, i + 0.5) for i, n in enumerate(right_nodes)})\n",
    "\n",
    "nx.draw_networkx(DG, pos, **options)\n",
    "\n",
    "# Set margins for the axes so that nodes aren't clipped\n",
    "ax = plt.gca()\n",
    "ax.margins(0.20)\n",
    "plt.axis(\"off\")\n",
    "plt.show()"
   ]
  },
  {
   "cell_type": "markdown",
   "id": "d5111573",
   "metadata": {},
   "source": [
    "#### Graph components"
   ]
  },
  {
   "cell_type": "code",
   "execution_count": 7,
   "id": "0e097b63",
   "metadata": {
    "kernel": "Python3",
    "tags": [
     "report_cell"
    ]
   },
   "outputs": [
    {
     "data": {
      "text/plain": [
       "True"
      ]
     },
     "execution_count": 7,
     "metadata": {},
     "output_type": "execute_result"
    }
   ],
   "source": [
    "DG.out_degree(3, weight='weight')\n",
    "list(DG.nodes)\n",
    "list(DG.edges)\n",
    "DG.predecessors(6)\n",
    "DG.successors(4)\n",
    "nx.is_directed_acyclic_graph(DG)\n",
    "\n",
    "# DG.ancestors([2,3])\n",
    "# DG.descendants(c(\"b\",\"e\"),dag0)"
   ]
  },
  {
   "cell_type": "markdown",
   "id": "3eb7be4e",
   "metadata": {},
   "source": [
    "### Operation on graphs\n",
    "\n",
    "You can moralize a DAG and get an equivalent undirected graph."
   ]
  },
  {
   "cell_type": "code",
   "execution_count": 8,
   "id": "fae3ed4e",
   "metadata": {
    "kernel": "Python3",
    "tags": [
     "report_cell"
    ]
   },
   "outputs": [],
   "source": [
    "mDG=nx.moral_graph(DG)"
   ]
  },
  {
   "cell_type": "markdown",
   "id": "99bf4e44",
   "metadata": {},
   "source": [
    "D-separation"
   ]
  },
  {
   "cell_type": "code",
   "execution_count": 9,
   "id": "930c64f9",
   "metadata": {
    "kernel": "Python3",
    "tags": [
     "report_cell"
    ]
   },
   "outputs": [
    {
     "data": {
      "text/plain": [
       "True"
      ]
     },
     "execution_count": 9,
     "metadata": {},
     "output_type": "execute_result"
    }
   ],
   "source": [
    "nx.d_separated(DG, {5,6}, {1,0}, {3})"
   ]
  },
  {
   "cell_type": "markdown",
   "id": "0e4eda25",
   "metadata": {},
   "source": [
    "### Bayesian Networks\n",
    "\n",
    "The term Bayesian network originates from Bayesian inference in expert systems.  Representing a joint probability distribution using a directed acyclic graph (a DAG) and exploiting the conditional independencies enable one to perform rapid and efficient computation of updated probabilities for states of unobserved variables.  Let's look at an example.\n",
    "\n",
    "  Having flu (F) may cause elevated temperature (T). Elevated temperature may cause a headache (H).\n",
    "\n",
    "This relationship can be written in probability notation as\n",
    "$$p(FTH)=p(F)p(T|F)p(H|T)$$\n",
    "\n",
    "This relationship can be expressed as a DAG in the following way"
   ]
  },
  {
   "cell_type": "code",
   "execution_count": 12,
   "id": "c9f9558e",
   "metadata": {
    "kernel": "Python3",
    "tags": [
     "report_cell"
    ]
   },
   "outputs": [],
   "source": [
    "#plot((FTH<-dag(~ F + T:F + H:T)), \"circo\")"
   ]
  },
  {
   "cell_type": "markdown",
   "id": "cfba4d9e",
   "metadata": {},
   "source": [
    "Now you have a headache, what is the probability of the flu $p(F=yes|H=yes)$ or you have a fever $p(T=yes|H=yes)$?\n",
    "\n",
    "For this we need $p(F)$, $p(T|F)$, and $p(H|T)$.  We are going to pretend we know this information.\n",
    "\n",
    "Unconditionally we will say that you get the flu with 1% probability."
   ]
  },
  {
   "cell_type": "code",
   "execution_count": 13,
   "id": "601c1228",
   "metadata": {
    "kernel": "Python3",
    "tags": [
     "report_cell"
    ]
   },
   "outputs": [
    {
     "name": "stdout",
     "output_type": "stream",
     "text": [
      "+------+------+\n",
      "| F(0) | 0.01 |\n",
      "+------+------+\n",
      "| F(1) | 0.99 |\n",
      "+------+------+\n"
     ]
    }
   ],
   "source": [
    "DG2 = nx.DiGraph([(\"F\", \"T\"), (\"T\",\"H\")])\n",
    "model = BayesianNetwork([('F', 'T'), ('T', 'H')])\n",
    "\n",
    "cpd_f = TabularCPD(variable='F', variable_card=2, values=[[0.01], [0.99]])\n",
    "print(cpd_f)"
   ]
  },
  {
   "cell_type": "markdown",
   "id": "13d8524d",
   "metadata": {},
   "source": [
    "As for $p(T|F)$, we will say that given the flu, you will have a 95% probability of fever, but with no flu, you will have a 0.1% fever."
   ]
  },
  {
   "cell_type": "code",
   "execution_count": 14,
   "id": "128fde46",
   "metadata": {
    "kernel": "Python3",
    "tags": [
     "report_cell"
    ]
   },
   "outputs": [
    {
     "name": "stdout",
     "output_type": "stream",
     "text": [
      "+------+------+-------+\n",
      "| F    | F(0) | F(1)  |\n",
      "+------+------+-------+\n",
      "| T(0) | 0.95 | 0.001 |\n",
      "+------+------+-------+\n",
      "| T(1) | 0.05 | 0.999 |\n",
      "+------+------+-------+\n"
     ]
    }
   ],
   "source": [
    "cpd_t = TabularCPD(variable='T', variable_card=2,\n",
    "                   values=[[0.95, 0.001],\n",
    "                           [0.05, 0.999,],],\n",
    "                  evidence=['F'],\n",
    "                  evidence_card=[2])\n",
    "print(cpd_t)"
   ]
  },
  {
   "cell_type": "markdown",
   "id": "4759f914",
   "metadata": {},
   "source": [
    "As for $p(H|T)$, we will say that given a fever, you will have an 80% probability of headache, and with out a fever 1% probability of headache."
   ]
  },
  {
   "cell_type": "code",
   "execution_count": 15,
   "id": "10d1135b",
   "metadata": {
    "kernel": "Python3",
    "tags": [
     "report_cell"
    ]
   },
   "outputs": [
    {
     "name": "stdout",
     "output_type": "stream",
     "text": [
      "+------+------+------+\n",
      "| T    | T(0) | T(1) |\n",
      "+------+------+------+\n",
      "| H(0) | 0.8  | 0.01 |\n",
      "+------+------+------+\n",
      "| H(1) | 0.2  | 0.99 |\n",
      "+------+------+------+\n"
     ]
    }
   ],
   "source": [
    "cpd_h = TabularCPD(variable='H', variable_card=2,\n",
    "                   values=[[0.80, 0.010],\n",
    "                           [0.20, 0.990,],],\n",
    "                  evidence=['T'],\n",
    "                  evidence_card=[2])\n",
    "print(cpd_h)"
   ]
  },
  {
   "cell_type": "markdown",
   "id": "e894b071",
   "metadata": {},
   "source": [
    "We can get the joint probability of flu and fever $p(FT)=p(T|F)p(F)$"
   ]
  },
  {
   "cell_type": "code",
   "execution_count": 16,
   "id": "a3507443",
   "metadata": {
    "kernel": "Python3",
    "tags": [
     "report_cell"
    ]
   },
   "outputs": [
    {
     "name": "stdout",
     "output_type": "stream",
     "text": [
      "+------+------+------------+\n",
      "| T    | F    |   phi(T,F) |\n",
      "+======+======+============+\n",
      "| T(0) | F(0) |     0.0095 |\n",
      "+------+------+------------+\n",
      "| T(0) | F(1) |     0.0010 |\n",
      "+------+------+------------+\n",
      "| T(1) | F(0) |     0.0005 |\n",
      "+------+------+------------+\n",
      "| T(1) | F(1) |     0.9890 |\n",
      "+------+------+------------+\n"
     ]
    }
   ],
   "source": [
    "model.add_cpds(cpd_f, cpd_t, cpd_h)\n",
    "from pgmpy.inference import VariableElimination\n",
    "model_infer = VariableElimination(model)\n",
    "print(model_infer.query([\"T\",\"F\"]))"
   ]
  },
  {
   "cell_type": "markdown",
   "id": "0f68c1c1",
   "metadata": {},
   "source": [
    "and flu, fever, and headache $p(FTH)=p(H|T)p(FT)$"
   ]
  },
  {
   "cell_type": "code",
   "execution_count": 17,
   "id": "75f749f5",
   "metadata": {
    "kernel": "Python3",
    "tags": [
     "report_cell"
    ]
   },
   "outputs": [
    {
     "name": "stdout",
     "output_type": "stream",
     "text": [
      "+------+------+------+--------------+\n",
      "| T    | F    | H    |   phi(T,F,H) |\n",
      "+======+======+======+==============+\n",
      "| T(0) | F(0) | H(0) |       0.0076 |\n",
      "+------+------+------+--------------+\n",
      "| T(0) | F(0) | H(1) |       0.0019 |\n",
      "+------+------+------+--------------+\n",
      "| T(0) | F(1) | H(0) |       0.0008 |\n",
      "+------+------+------+--------------+\n",
      "| T(0) | F(1) | H(1) |       0.0002 |\n",
      "+------+------+------+--------------+\n",
      "| T(1) | F(0) | H(0) |       0.0000 |\n",
      "+------+------+------+--------------+\n",
      "| T(1) | F(0) | H(1) |       0.0005 |\n",
      "+------+------+------+--------------+\n",
      "| T(1) | F(1) | H(0) |       0.0099 |\n",
      "+------+------+------+--------------+\n",
      "| T(1) | F(1) | H(1) |       0.9791 |\n",
      "+------+------+------+--------------+\n"
     ]
    }
   ],
   "source": [
    "print(model_infer.query([\"T\",\"F\",\"H\"]))"
   ]
  },
  {
   "cell_type": "markdown",
   "id": "89bbef91",
   "metadata": {},
   "source": [
    "To calculate $p(F|H)$ we need $p(FH)$ and $p(H)$.\n",
    "For this we marginalize $p(FTH)$ wrt $T$ so that $p(FH)=\\sum_T p(FTH)$"
   ]
  },
  {
   "cell_type": "code",
   "execution_count": 18,
   "id": "d8960567",
   "metadata": {
    "kernel": "Python3",
    "tags": [
     "report_cell"
    ]
   },
   "outputs": [
    {
     "name": "stdout",
     "output_type": "stream",
     "text": [
      "+------+------+------------+\n",
      "| H    | F    |   phi(H,F) |\n",
      "+======+======+============+\n",
      "| H(0) | F(0) |     0.0076 |\n",
      "+------+------+------------+\n",
      "| H(0) | F(1) |     0.0107 |\n",
      "+------+------+------------+\n",
      "| H(1) | F(0) |     0.0024 |\n",
      "+------+------+------------+\n",
      "| H(1) | F(1) |     0.9793 |\n",
      "+------+------+------------+\n"
     ]
    }
   ],
   "source": [
    "model_hf=model_infer.query(['H','F'])\n",
    "print(model_hf)"
   ]
  },
  {
   "cell_type": "code",
   "execution_count": 19,
   "id": "ab75e995",
   "metadata": {
    "kernel": "Python3",
    "tags": [
     "report_cell"
    ]
   },
   "outputs": [
    {
     "name": "stdout",
     "output_type": "stream",
     "text": [
      "+------+----------+\n",
      "| H    |   phi(H) |\n",
      "+======+==========+\n",
      "| H(0) |   0.0183 |\n",
      "+------+----------+\n",
      "| H(1) |   0.9817 |\n",
      "+------+----------+\n"
     ]
    }
   ],
   "source": [
    "model_h=model_infer.query(['H'])\n",
    "print(model_h)"
   ]
  },
  {
   "cell_type": "markdown",
   "id": "b4fc2fd9",
   "metadata": {},
   "source": [
    "From there, we can calculate the conditional probability\n",
    "$$p(F|H)=\\frac{p(FH)}{p(H)}=\\frac{p(H|F)p(F)}{p(H)}$$"
   ]
  },
  {
   "cell_type": "code",
   "execution_count": 20,
   "id": "012ede6f",
   "metadata": {
    "kernel": "Python3",
    "tags": [
     "report_cell"
    ]
   },
   "outputs": [
    {
     "name": "stdout",
     "output_type": "stream",
     "text": [
      "+------+------+------------+\n",
      "| H    | F    |   phi(H,F) |\n",
      "+======+======+============+\n",
      "| H(0) | F(0) |     0.4159 |\n",
      "+------+------+------------+\n",
      "| H(0) | F(1) |     0.5841 |\n",
      "+------+------+------------+\n",
      "| H(1) | F(0) |     0.0024 |\n",
      "+------+------+------------+\n",
      "| H(1) | F(1) |     0.9976 |\n",
      "+------+------+------------+\n"
     ]
    }
   ],
   "source": [
    "print(model_hf/model_h)"
   ]
  },
  {
   "cell_type": "markdown",
   "id": "d9b040f8",
   "metadata": {},
   "source": [
    "$p(Flu=\\mbox{yes} | Headache=\\mbox{yes})=0.42$"
   ]
  },
  {
   "cell_type": "markdown",
   "id": "7185d234",
   "metadata": {},
   "source": [
    "### Bayesian networks using the gRain package\n",
    "\n",
    "The chest clinic example from Lauritzen and Spiegelhalter (1988)."
   ]
  },
  {
   "cell_type": "code",
   "execution_count": null,
   "id": "ec235136",
   "metadata": {
    "kernel": "Python3",
    "tags": [
     "report_cell"
    ]
   },
   "outputs": [],
   "source": [
    "Chest_model= BayesianNetwork([('asia','tub'),('smoke','lung'),('smoke','bronc'),('lung','either'),('tub','either'),\n",
    "('either','xray'),('bronc','dysp'),('either','dysp')])\n",
    "\n",
    "\n",
    "# pgmpy\n",
    "# g<-list(~asia,\n",
    "#         ~tub    | asia,\n",
    "#         ~smoke,\n",
    "#         ~lung   | smoke,\n",
    "#         ~bronc  | smoke,\n",
    "#         ~either | lung : tub,\n",
    "#         ~xray   | either,\n",
    "#         ~dysp   | bronc : either)\n",
    "# chestdag <- gRbase::dagList(g)"
   ]
  },
  {
   "cell_type": "markdown",
   "id": "5a939a14",
   "metadata": {},
   "source": [
    "DAGs can be plotted nicely as"
   ]
  },
  {
   "cell_type": "code",
   "execution_count": null,
   "id": "95e6f181",
   "metadata": {
    "kernel": "Python3",
    "tags": [
     "report_cell"
    ]
   },
   "outputs": [],
   "source": [
    "import networkx as nx\n",
    "import pylab as plt\n",
    "nx_graph = nx.DiGraph(Chest_model.edges())\n",
    "nx.draw(nx_graph, with_labels=True)\n",
    "plt.show()"
   ]
  },
  {
   "cell_type": "markdown",
   "id": "5bb860f0",
   "metadata": {},
   "source": [
    "The moralized graph"
   ]
  },
  {
   "cell_type": "code",
   "execution_count": null,
   "id": "0f3769e5",
   "metadata": {
    "kernel": "Python3",
    "tags": [
     "report_cell"
    ]
   },
   "outputs": [],
   "source": [
    "mDG_chest=nx.moral_graph(nx_graph)\n",
    "nx.draw(mDG_chest, with_labels=True)\n",
    "plt.show()"
   ]
  },
  {
   "cell_type": "markdown",
   "id": "d10f487e",
   "metadata": {},
   "source": [
    "Checking for d-separation."
   ]
  },
  {
   "cell_type": "code",
   "execution_count": null,
   "id": "89410062",
   "metadata": {
    "kernel": "Python3",
    "tags": [
     "report_cell"
    ]
   },
   "outputs": [],
   "source": [
    "nx.d_separated(nx_graph, {\"tub\"}, { \"smoke\"}, {\"dysp\",\"xray\"})\n",
    "nx.d_separated(nx_graph, {\"tub\"}, { \"lung\"}, {\"smoke\"})"
   ]
  },
  {
   "cell_type": "markdown",
   "id": "beec135a",
   "metadata": {},
   "source": [
    "Learning the parameters from the data given the model."
   ]
  },
  {
   "cell_type": "code",
   "execution_count": null,
   "id": "99406f4d",
   "metadata": {
    "kernel": "Python3",
    "tags": [
     "report_cell"
    ]
   },
   "outputs": [],
   "source": [
    "from pgmpy.estimators import MaximumLikelihoodEstimator\n",
    "data = pd.DataFrame(np.random.randint(low=0, high=2, size=(1000, 8)),\n",
    "                      columns=['asia', 'tub', 'either', 'smoke', 'lung', 'bronc', 'dysp', 'xray'])\n",
    "Chest_model.fit(data)\n",
    "Chest_model.get_cpds()"
   ]
  },
  {
   "cell_type": "markdown",
   "id": "55282f71",
   "metadata": {},
   "source": [
    "Before observing any evidence"
   ]
  },
  {
   "cell_type": "code",
   "execution_count": null,
   "id": "cc8b5348",
   "metadata": {
    "kernel": "Python3",
    "tags": [
     "report_cell"
    ]
   },
   "outputs": [],
   "source": [
    "inference = VariableElimination(Chest_model)\n",
    "res_pre=inference.query([\"tub\",\"lung\",\"bronc\"],joint=False)\n",
    "print(res_pre[\"bronc\"])\n",
    "print(res_pre[\"lung\"])\n",
    "print(res_pre[\"tub\"])"
   ]
  },
  {
   "cell_type": "markdown",
   "id": "71e07649",
   "metadata": {},
   "source": [
    "If you have shortness of breath and if you went to \"Asia\"."
   ]
  },
  {
   "cell_type": "code",
   "execution_count": null,
   "id": "89649145",
   "metadata": {
    "kernel": "Python3",
    "tags": [
     "report_cell"
    ]
   },
   "outputs": [],
   "source": [
    "res=inference.query([\"tub\",\"lung\",\"bronc\"],evidence={'asia': 1, 'dysp': 1},joint=False)\n",
    "print(res[\"bronc\"])\n",
    "print(res[\"lung\"])\n",
    "print(res[\"tub\"])"
   ]
  },
  {
   "cell_type": "markdown",
   "id": "9e236653",
   "metadata": {},
   "source": [
    "After seeing x-ray is yes"
   ]
  },
  {
   "cell_type": "code",
   "execution_count": null,
   "id": "8dab4847",
   "metadata": {
    "kernel": "Python3",
    "tags": [
     "report_cell"
    ]
   },
   "outputs": [],
   "source": [
    "res_3=inference.query([\"tub\",\"lung\",\"bronc\"],evidence={'asia': 1, 'dysp': 1, \"xray\":1 },joint=False)\n",
    "print(res_3[\"bronc\"])\n",
    "print(res_3[\"lung\"])\n",
    "print(res_3[\"tub\"])"
   ]
  },
  {
   "cell_type": "markdown",
   "id": "7b5a962e",
   "metadata": {},
   "source": [
    "You can also get the joint probability."
   ]
  },
  {
   "cell_type": "code",
   "execution_count": null,
   "id": "9fa6868c",
   "metadata": {
    "kernel": "Python3",
    "tags": [
     "report_cell"
    ]
   },
   "outputs": [],
   "source": [
    "res_4=inference.query([\"lung\",\"bronc\"],evidence={'asia': 1, 'dysp': 1, \"xray\":1 },joint=True)\n",
    "print(res_4)"
   ]
  },
  {
   "cell_type": "markdown",
   "id": "d6802d54",
   "metadata": {},
   "source": [
    "### Learning the network structure\n",
    "\n",
    "Graph structure estimation is a hot topic we will not be able to cover we will just look at few examples."
   ]
  },
  {
   "cell_type": "markdown",
   "id": "d9b93237",
   "metadata": {},
   "source": [
    "### Hill-climbing algorithm\n",
    "\n",
    "hc function in the bnlearn package implements hill-climbing algorithm to select a graphical model.  It uses greedy search to optimize a score, such as the BIC. This means that the current DAG is compared to all DAGs obtained by adding an edge, removing an edge, or reversing the direction of an edge. The model with the optimal score is chosen, and the process repeats until no score improvement can be made."
   ]
  },
  {
   "cell_type": "code",
   "execution_count": null,
   "id": "8308fa27",
   "metadata": {
    "kernel": "Python3",
    "tags": [
     "report_cell"
    ]
   },
   "outputs": [],
   "source": [
    "from pgmpy.estimators import HillClimbSearch, BicScore\n",
    "est = HillClimbSearch(data)\n",
    "best_model = est.estimate(scoring_method=BicScore(data))\n",
    "best_model.edges()\n",
    "est.estimate(max_indegree=1).edges()"
   ]
  },
  {
   "cell_type": "markdown",
   "id": "63c68e27",
   "metadata": {},
   "source": [
    "### A Hybrid Algorithm.\n",
    "\n",
    "The max-min hill-climbing algorithm is a hybrid constraint/score-based algorithm implemented as mmhc function."
   ]
  },
  {
   "cell_type": "code",
   "execution_count": null,
   "id": "3f5c3fe1",
   "metadata": {
    "kernel": "Python3",
    "tags": [
     "report_cell"
    ]
   },
   "outputs": [],
   "source": [
    "from pgmpy.estimators import MmhcEstimator\n",
    "est = MmhcEstimator(data)\n",
    "model = est.estimate()\n",
    "print(model.edges())"
   ]
  },
  {
   "cell_type": "markdown",
   "id": "d6a485fc",
   "metadata": {},
   "source": [
    "### Gaussian Graphical model example\n",
    "\n",
    "Sample correlation are misleading.  Here is one illustration of why.\n",
    "We will generate from multivariate Gaussian distribution."
   ]
  },
  {
   "cell_type": "code",
   "execution_count": null,
   "id": "8a36f04e",
   "metadata": {
    "kernel": "Python3",
    "tags": [
     "report_cell"
    ]
   },
   "outputs": [],
   "source": [
    "from numpy.linalg import inv\n",
    "#http://people.math.aau.dk/~sorenh/misc/2016-gmbn-rennes/doc/bayesnet-slides.pdf\n",
    "K= [[2.,1.,0.],\n",
    "              [1.,2.,1.],\n",
    "              [0.,1.,2.]]\n",
    "K"
   ]
  },
  {
   "cell_type": "markdown",
   "id": "dee09fc5",
   "metadata": {},
   "source": [
    "K is the TRUE inverse covariance matrix or the precision matrix where Zero in the matrices implies independence.\n",
    "\n",
    "But when you take an inverse of the precision matrix, what you get is"
   ]
  },
  {
   "cell_type": "code",
   "execution_count": null,
   "id": "c78617f4",
   "metadata": {
    "kernel": "Python3",
    "tags": [
     "report_cell"
    ]
   },
   "outputs": [],
   "source": [
    "Sigma = inv(K)\n",
    "Sigma"
   ]
  },
  {
   "cell_type": "markdown",
   "id": "3874316c",
   "metadata": {},
   "source": [
    "You generate data from MVN using this variance-covariance matrix and you get"
   ]
  },
  {
   "cell_type": "code",
   "execution_count": null,
   "id": "d94a12b8",
   "metadata": {
    "kernel": "Python3",
    "tags": [
     "report_cell"
    ]
   },
   "outputs": [],
   "source": [
    "mean = [0, 0]\n",
    "d = np.random.multivariate_normal([0,0,0], Sigma, 5000)"
   ]
  },
  {
   "cell_type": "code",
   "execution_count": null,
   "id": "a6f790d5",
   "metadata": {
    "kernel": "Python3",
    "tags": [
     "report_cell"
    ]
   },
   "outputs": [],
   "source": [
    "dx=pd.DataFrame(d,columns=['x1', 'x2', 'x3'])\n",
    "dx.corr()"
   ]
  },
  {
   "cell_type": "markdown",
   "id": "560ab42b",
   "metadata": {},
   "source": [
    "Both plot and correlation suggest a mild correlation between 1 and 3, and they are both correlated with 2.\n",
    "\n",
    "Let's look at the partial correlation by regressing out the effect of 2 from both 1 and 3."
   ]
  },
  {
   "cell_type": "code",
   "execution_count": null,
   "id": "a6279433",
   "metadata": {
    "kernel": "Python3",
    "tags": [
     "report_cell"
    ]
   },
   "outputs": [],
   "source": [
    "import statsmodels.api as sm\n",
    "y=dx[\"x1\"]\n",
    "x=dx[\"x2\"]\n",
    "mod12 = sm.OLS(dx[\"x1\"],  sm.add_constant(dx[\"x2\"]))\n",
    "res12 = mod12.fit().resid\n",
    "\n",
    "mod32 = sm.OLS(dx[\"x3\"], sm.add_constant( dx[\"x2\"]))\n",
    "res32 = mod32.fit().resid\n",
    "plt.scatter(res12, res32)\n",
    "plt.show()"
   ]
  },
  {
   "cell_type": "markdown",
   "id": "08d8bf14",
   "metadata": {},
   "source": [
    "The correlation disappeared"
   ]
  },
  {
   "cell_type": "code",
   "execution_count": null,
   "id": "8f25618c",
   "metadata": {
    "kernel": "Python3",
    "tags": [
     "report_cell"
    ]
   },
   "outputs": [],
   "source": [
    "dxres=pd.DataFrame({'res12':res12, 'res32':res32})\n",
    "dxres.corr()"
   ]
  },
  {
   "cell_type": "markdown",
   "id": "9de675be",
   "metadata": {},
   "source": [
    "You can do the same using regression."
   ]
  },
  {
   "cell_type": "code",
   "execution_count": null,
   "id": "a0c42bb4",
   "metadata": {
    "kernel": "Python3",
    "tags": [
     "report_cell"
    ]
   },
   "outputs": [],
   "source": [
    "mod123=sm.OLS(dx[\"x1\"], sm.add_constant(dx[[\"x2\",\"x3\"]]))\n",
    "res123 = mod123.fit()\n",
    "res123.params"
   ]
  },
  {
   "cell_type": "markdown",
   "id": "909f820b",
   "metadata": {},
   "source": [
    "The bottom line is that correlation is a dangerous thing to look too much into; if possible, one should look at partial correlation."
   ]
  },
  {
   "cell_type": "markdown",
   "id": "4d441889",
   "metadata": {},
   "source": [
    "### Causal DAG\n",
    "\n",
    "Another package, `causaldag`"
   ]
  },
  {
   "cell_type": "code",
   "execution_count": null,
   "id": "ef35cd3e",
   "metadata": {
    "kernel": "Python3",
    "tags": [
     "report_cell"
    ]
   },
   "outputs": [],
   "source": [
    "#pip3 install causaldag\n",
    "import causaldag as cd\n",
    "dag = cd.DAG(arcs={(1, 2), (2, 3), (1, 3)})\n",
    "cpdag = dag.cpdag()\n",
    "dag.reversible_arcs()"
   ]
  }
 ],
 "metadata": {
  "Rmd_chunk_options": {
   "author": "Masanao Yajima",
   "date": "1/29/2023",
   "output": "html_document",
   "title": "Graphical model with Python"
  },
  "kernelspec": {
   "display_name": "Python 3 (ipykernel)",
   "language": "python",
   "name": "python3"
  },
  "language_info": {
   "codemirror_mode": {
    "name": "ipython",
    "version": 3
   },
   "file_extension": ".py",
   "mimetype": "text/x-python",
   "name": "python",
   "nbconvert_exporter": "python",
   "pygments_lexer": "ipython3",
   "version": "3.9.7"
  },
  "sos": {
   "kernels": [
    [
     "SoS",
     "sos",
     "",
     ""
    ],
    [
     "css",
     "css",
     "",
     ""
    ],
    [
     "R",
     "ir",
     "",
     ""
    ],
    [
     "Python3",
     "ir",
     "",
     ""
    ]
   ]
  }
 },
 "nbformat": 4,
 "nbformat_minor": 5
}
